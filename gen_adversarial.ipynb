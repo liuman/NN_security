{
 "cells": [
  {
   "cell_type": "code",
   "execution_count": 1,
   "metadata": {},
   "outputs": [],
   "source": [
    "import numpy as np\n",
    "import yaml\n",
    "import shutil\n",
    "import uuid\n",
    "from tensorflow.keras import backend as K\n",
    "from nn_tools import read_count\n",
    "import tensorflow as tf\n",
    "from data_bank import data_selector\n",
    "import model_builders as mb\n",
    "import os\n",
    "from os.path import join\n",
    "import matplotlib.pyplot as plt\n",
    "import sys\n",
    "from adversarial_attacks.spsa import spsa, spsa_T1\n",
    "from adversarial_attacks.df_attacks import attack_network\n",
    "from tensorflow.keras.applications.resnet50 import preprocess_input as res_prep\n",
    "from tensorflow.keras.applications.vgg16 import preprocess_input as vgg_prep\n",
    "from tensorflow.keras.losses import SparseCategoricalCrossentropy\n",
    "from tensorflow.keras.metrics import SparseCategoricalAccuracy"
   ]
  },
  {
   "cell_type": "code",
   "execution_count": 2,
   "metadata": {},
   "outputs": [],
   "source": [
    "def create_adversarial_pattern(input_image, input_label, pretrained_model):\n",
    "\n",
    "    loss_object = tf.keras.losses.binary_crossentropy\n",
    "    with tf.GradientTape() as tape:\n",
    "        image = np.expand_dims(input_image, axis = 0)\n",
    "        image = tf.convert_to_tensor(image)\n",
    "        tape.watch(image)\n",
    "        prediction = pretrained_model(image)\n",
    "        loss = loss_object(input_label, prediction)\n",
    "    gradient =  tape.gradient(loss,image)\n",
    "    signed_grad = tf.sign(gradient)\n",
    "    return signed_grad\n",
    "\n",
    "def put_in_range(img):\n",
    "    \n",
    "    out = np.zeros([1,224,224,1])\n",
    "    \n",
    "    for i in range(224):\n",
    "        for j in range(224):\n",
    "            if img[0,i,j]>1:\n",
    "                out[0,i,j,0]=1\n",
    "            elif img[0,i,j]<0:\n",
    "                out[0,i,j,0] = 0\n",
    "            else:\n",
    "                out[0,i,j,0] = img[0,i,j,0]\n",
    "    return out"
   ]
  },
  {
   "cell_type": "code",
   "execution_count": 3,
   "metadata": {},
   "outputs": [
    {
     "name": "stdout",
     "output_type": "stream",
     "text": [
      "\n",
      "COMPUTER SETUP\n",
      "Use gpu: True\n",
      "Compute node: 2\n"
     ]
    }
   ],
   "source": [
    "#Setup model\n",
    "\n",
    "'''\n",
    "need to load model\n",
    "need to load training data\n",
    "perform adversarial attack\n",
    "'''\n",
    "\n",
    "tf.compat.v1.logging.set_verbosity(tf.compat.v1.logging.ERROR)\n",
    "\n",
    "configfile = 'config_adv.yml'\n",
    "with open(configfile) as ymlfile:\n",
    "    cgf = yaml.load(ymlfile, Loader =yaml.SafeLoader)\n",
    "\n",
    "# Set up computational resource \n",
    "use_gpu = cgf['COMPUTER_SETUP']['use_gpu']\n",
    "print(\"\"\"\\nCOMPUTER SETUP\n",
    "Use gpu: {}\"\"\".format(use_gpu))\n",
    "if use_gpu:\n",
    "    compute_node = cgf['COMPUTER_SETUP']['compute_node']\n",
    "    os.environ[\"CUDA_VISIBLE_DEVICES\"]= \"%d\" % (compute_node)\n",
    "    print('Compute node: {}'.format(compute_node))\n",
    "else: \n",
    "    os.environ[\"CUDA_VISIBLE_DEVICES\"]= \"-1\"\n",
    "\n",
    "# Turn on soft memory allocation\n",
    "tf_config = tf.compat.v1.ConfigProto()\n",
    "tf_config.gpu_options.allow_growth = True\n",
    "tf_config.log_device_placement = False\n",
    "sess = tf.compat.v1.Session(config=tf_config)\n",
    "#K.v1.set_session(sess)"
   ]
  },
  {
   "cell_type": "code",
   "execution_count": 6,
   "metadata": {},
   "outputs": [
    {
     "name": "stdout",
     "output_type": "stream",
     "text": [
      "CPU times: user 16.8 ms, sys: 26.2 s, total: 26.2 s\n",
      "Wall time: 58.7 s\n"
     ]
    }
   ],
   "source": [
    "%%time\n",
    "data_loader = data_selector(cgf['DATASET']['name'], cgf['DATASET']['arguments'])\n",
    "\n",
    "data, labels, diff = data_loader.load_data() "
   ]
  },
  {
   "cell_type": "code",
   "execution_count": 7,
   "metadata": {},
   "outputs": [
    {
     "data": {
      "text/plain": [
       "'\\ndata = np.load(cgf[\"DATASET\"][\"arguments\"][\"images\"])\\nlabels = np.load(cgf[\"DATASET\"][\"arguments\"][\"labels\"])\\n'"
      ]
     },
     "execution_count": 7,
     "metadata": {},
     "output_type": "execute_result"
    }
   ],
   "source": [
    "data = data[:3000,:,:]\n",
    "labels = labels[:3000]\n",
    "\n",
    "'''\n",
    "data = np.load(cgf[\"DATASET\"][\"arguments\"][\"images\"])\n",
    "labels = np.load(cgf[\"DATASET\"][\"arguments\"][\"labels\"])\n",
    "'''"
   ]
  },
  {
   "cell_type": "code",
   "execution_count": 8,
   "metadata": {},
   "outputs": [
    {
     "name": "stdout",
     "output_type": "stream",
     "text": [
      "input_shape (224, 224, 1)\n"
     ]
    }
   ],
   "source": [
    "# Get input and output shape\n",
    "input_shape = data.shape[1:]\n",
    "output_shape = labels.shape[1];\n",
    "print('input_shape', input_shape)\n",
    "# Set the default precision \n",
    "model_precision = cgf['MODEL_METADATA']['precision']\n",
    "K.set_floatx(model_precision)\n",
    "\n",
    "model_id = cgf['MODEL_METADATA']['model_number_arguments']['model_id']\n",
    "model_path = join('model', str(model_id))\n",
    "filepath = cgf['MODEL_METADATA']['save_best_model']['arguments']['filepath']\n",
    "attack = cgf['ATTACK']['name']\n",
    "\n",
    "original_data = cgf['DATASET']['arguments']['original_images']\n",
    "adv_data = cgf['DATASET']['arguments'][\"adv_images\"]\n",
    "adv_labels = cgf['DATASET']['arguments']['adv_labels']\n",
    "adv_diffs = cgf['DATASET']['arguments']['adv_diffs']\n",
    "\n",
    "weights_path = join(model_path, filepath)\n",
    "\n",
    "optimizer = cgf['TRAIN']['optim']['type']\n",
    "loss_type = cgf['TRAIN']['loss']['type']\n",
    "metric_list = list(cgf['TRAIN']['metrics'].values())\n",
    "\n",
    "if loss_type == 'SparseCategoricalCrossentropy':\n",
    "    loss_type = SparseCategoricalCrossentropy(from_logits=False)\n",
    "    metric_list = [SparseCategoricalAccuracy()]\n",
    "    output_shape = 2\n",
    "    labels = np.reshape(labels, (-1))\n",
    "\n",
    "model_name = cgf['MODEL']['name']\n",
    "model_arguments = cgf['MODEL']['arguments']\n",
    "#model = mb.model_selector(model_name, input_shape, output_shape, model_arguments)\n",
    "\n",
    "model = tf.keras.models.load_model(weights_path)\n",
    "\n",
    "# Preprocessing\n",
    "if model_name =='resnet':\n",
    "    preprocessing = res_prep\n",
    "    data = 225*data\n",
    "    data = data - 122\n",
    "    labels = np.reshape(labels,(-1))\n",
    "    #data = tf.cast(data, dtype=tf.float32)\n",
    "    #labels = tf.cast(data, dtype=tf.float32)\n",
    "elif model_name == 'vgg16':\n",
    "    preprocessing = vgg_prep\n",
    "    data = 225*data\n",
    "    data = data - 122\n",
    "    labels = np.reshape(labels,(-1))\n",
    "    #data = tf.cast(data, dtype=tf.float32)\n",
    "    #labels = tf.cast(data, dtype=tf.float32)\n",
    "else:\n",
    "    preprocessing = None \n",
    "\n",
    "model.compile(optimizer=optimizer,\n",
    "              loss=loss_type,\n",
    "              metrics = metric_list)\n",
    "\n",
    "model.trainable = False"
   ]
  },
  {
   "cell_type": "code",
   "execution_count": 9,
   "metadata": {},
   "outputs": [
    {
     "name": "stdout",
     "output_type": "stream",
     "text": [
      "Evaluate on data\n",
      "60/60 [==============================] - 103s 2s/step - loss: 2.7092 - sparse_categorical_accuracy: 0.8213\n",
      "Loss :2.709217498699824, Accuracy: 0.8213333333333334%.\n"
     ]
    }
   ],
   "source": [
    "# Evaluate the model on training data (can also do on test)\n",
    "\n",
    "# Evaluate the model on the test data using `evaluate`\n",
    "print(\"Evaluate on data\")\n",
    "if model_name =='resnet':\n",
    "    eval_data = tf.cast(data, dtype=tf.float32)\n",
    "    eval_labels = tf.cast(labels, dtype=tf.float32)\n",
    "    results = model.evaluate(eval_data, eval_labels, batch_size=50)\n",
    "elif model_name =='vgg16':\n",
    "    eval_data = tf.cast(data, dtype=tf.float32)\n",
    "    eval_labels = tf.cast(labels, dtype=tf.float32)\n",
    "    results = model.evaluate(eval_data, eval_labels, batch_size=50)\n",
    "else:\n",
    "    results = model.evaluate(tf.convert_to_tensor(data), tf.convert_to_tensor(labels), batch_size=50)\n",
    "\n",
    "print(\"Loss :{}, Accuracy: {}%.\".format(results[0], results[1]))"
   ]
  },
  {
   "cell_type": "code",
   "execution_count": 10,
   "metadata": {},
   "outputs": [
    {
     "name": "stdout",
     "output_type": "stream",
     "text": [
      "Evaluate on data\n",
      "200/200 [==============================] - 351s 2s/step - loss: 2.5593 - sparse_categorical_accuracy: 0.8309\n",
      "Loss :2.559323272705078, Accuracy: 0.8309%.\n"
     ]
    }
   ],
   "source": [
    "data_loader = data_selector(cgf['DATASET']['name'], cgf['DATASET']['train_arguments'])\n",
    "\n",
    "data_train, labels_train, diff_train = data_loader.load_data()\n",
    "\n",
    "# Preprocessing\n",
    "if model_name =='resnet':\n",
    "    preprocessing = res_prep\n",
    "    data_train = 225*data_train\n",
    "    data_train = data_train-122\n",
    "    #data = tf.cast(data, dtype=tf.float32)\n",
    "    #labels = tf.cast(data, dtype=tf.float32)\n",
    "elif model_name == 'vgg16':\n",
    "    preprocessing = vgg_prep\n",
    "    data_train = 225*data_train\n",
    "    data_train = data_train - 122\n",
    "    #data = tf.cast(data, dtype=tf.float32)\n",
    "    #labels = tf.cast(data, dtype=tf.float32)\n",
    "else:\n",
    "    preprocessing = None \n",
    "\n",
    "# Evaluate the model on training data (can also do on test)\n",
    "\n",
    "# Evaluate the model on the test data using `evaluate`\n",
    "print(\"Evaluate on data\")\n",
    "results = model.evaluate(tf.convert_to_tensor(data_train), tf.convert_to_tensor(labels_train), batch_size=50)\n",
    "print(\"Loss :{}, Accuracy: {}%.\".format(results[0], results[1]))"
   ]
  },
  {
   "cell_type": "markdown",
   "metadata": {},
   "source": [
    "## Check whether a particular attack works"
   ]
  },
  {
   "cell_type": "code",
   "execution_count": 11,
   "metadata": {
    "scrolled": true
   },
   "outputs": [
    {
     "name": "stdout",
     "output_type": "stream",
     "text": [
      "Image number 1.\n",
      "Image number 2.\n",
      "Image number 3.\n",
      "Image number 5.\n",
      "Image number 7.\n",
      "Image number 8.\n",
      "Image number 10.\n",
      "Image number 11.\n",
      "Image number 13.\n",
      "Image number 14.\n",
      "Image number 16.\n",
      "Image number 17.\n",
      "Image number 19.\n",
      "Image number 20.\n",
      "Image number 21.\n",
      "Image number 22.\n",
      "Image number 23.\n",
      "Image number 24.\n",
      "Image number 25.\n",
      "Image number 26.\n",
      "Image number 27.\n",
      "Image number 28.\n",
      "Image number 30.\n",
      "Image number 31.\n",
      "Image number 32.\n",
      "Image number 33.\n",
      "Image number 34.\n",
      "Image number 35.\n",
      "Image number 37.\n",
      "Image number 38.\n",
      "Image number 39.\n",
      "Image number 40.\n",
      "Image number 41.\n",
      "Image number 42.\n",
      "Image number 43.\n",
      "Image number 44.\n",
      "Image number 45.\n",
      "Image number 46.\n",
      "Image number 47.\n",
      "Image number 49.\n",
      "Image number 50.\n",
      "Image number 51.\n",
      "Image number 52.\n"
     ]
    },
    {
     "data": {
      "text/plain": [
       "<Figure size 432x288 with 0 Axes>"
      ]
     },
     "metadata": {},
     "output_type": "display_data"
    },
    {
     "data": {
      "image/png": "[encoded data removed]",
      "text/plain": [
       "<Figure size 1440x720 with 2 Axes>"
      ]
     },
     "metadata": {
      "needs_background": "light"
     },
     "output_type": "display_data"
    },
    {
     "name": "stdout",
     "output_type": "stream",
     "text": [
      "Image number 53.\n",
      "Image number 54.\n",
      "Image number 56.\n",
      "Image number 58.\n",
      "Image number 59.\n",
      "Image number 60.\n",
      "Image number 61.\n",
      "Image number 63.\n",
      "Image number 64.\n",
      "Image number 65.\n",
      "Image number 66.\n",
      "Image number 67.\n",
      "Image number 68.\n",
      "Image number 69.\n",
      "Image number 71.\n",
      "Image number 72.\n",
      "Image number 73.\n",
      "Image number 74.\n",
      "Image number 75.\n",
      "Image number 76.\n",
      "Image number 77.\n",
      "Image number 78.\n"
     ]
    },
    {
     "data": {
      "image/png": "[encoded data removed]",
      "text/plain": [
       "<Figure size 1440x720 with 2 Axes>"
      ]
     },
     "metadata": {
      "needs_background": "light"
     },
     "output_type": "display_data"
    },
    {
     "name": "stdout",
     "output_type": "stream",
     "text": [
      "Image number 79.\n",
      "Image number 80.\n",
      "Image number 81.\n",
      "Image number 83.\n",
      "Image number 84.\n",
      "Image number 85.\n",
      "Image number 86.\n",
      "Image number 87.\n",
      "Image number 88.\n",
      "Image number 90.\n",
      "Image number 91.\n",
      "Image number 92.\n",
      "Image number 93.\n",
      "Image number 94.\n",
      "Image number 96.\n",
      "Image number 97.\n",
      "Image number 98.\n",
      "Image number 100.\n",
      "Image number 101.\n",
      "Image number 102.\n",
      "Image number 104.\n"
     ]
    },
    {
     "data": {
      "image/png": "[encoded data removed]",
      "text/plain": [
       "<Figure size 1440x720 with 2 Axes>"
      ]
     },
     "metadata": {
      "needs_background": "light"
     },
     "output_type": "display_data"
    },
    {
     "name": "stdout",
     "output_type": "stream",
     "text": [
      "Image number 106.\n",
      "Image number 107.\n",
      "Image number 108.\n",
      "Image number 109.\n",
      "Image number 110.\n",
      "Image number 114.\n",
      "Image number 115.\n",
      "Image number 116.\n",
      "Image number 117.\n",
      "Image number 118.\n",
      "Image number 119.\n",
      "Image number 120.\n",
      "Image number 121.\n",
      "Image number 124.\n",
      "Image number 125.\n",
      "Image number 126.\n"
     ]
    },
    {
     "data": {
      "image/png": "[encoded data removed]",
      "text/plain": [
       "<Figure size 1440x720 with 2 Axes>"
      ]
     },
     "metadata": {
      "needs_background": "light"
     },
     "output_type": "display_data"
    },
    {
     "name": "stdout",
     "output_type": "stream",
     "text": [
      "Image number 127.\n",
      "Image number 130.\n",
      "Image number 131.\n",
      "Image number 132.\n",
      "Image number 133.\n",
      "Image number 134.\n",
      "Image number 136.\n",
      "Image number 137.\n",
      "Image number 138.\n",
      "Image number 139.\n",
      "Image number 140.\n",
      "Image number 141.\n",
      "Image number 142.\n",
      "Image number 144.\n",
      "Image number 145.\n",
      "Image number 146.\n",
      "Image number 147.\n",
      "Image number 148.\n",
      "Image number 149.\n",
      "Image number 150.\n",
      "Image number 151.\n",
      "Image number 152.\n",
      "Image number 153.\n",
      "Image number 154.\n",
      "Image number 155.\n",
      "Image number 156.\n",
      "Image number 157.\n",
      "Image number 158.\n",
      "Image number 159.\n",
      "Image number 160.\n",
      "Image number 161.\n",
      "Image number 162.\n",
      "Image number 163.\n",
      "Image number 164.\n",
      "Image number 165.\n",
      "Image number 167.\n",
      "Image number 168.\n",
      "Image number 170.\n",
      "Image number 171.\n",
      "Image number 173.\n",
      "Image number 174.\n",
      "Image number 177.\n",
      "Image number 178.\n",
      "Image number 179.\n",
      "Image number 181.\n",
      "Image number 182.\n",
      "Image number 183.\n"
     ]
    },
    {
     "data": {
      "image/png": "[encoded data removed]",
      "text/plain": [
       "<Figure size 1440x720 with 2 Axes>"
      ]
     },
     "metadata": {
      "needs_background": "light"
     },
     "output_type": "display_data"
    },
    {
     "name": "stdout",
     "output_type": "stream",
     "text": [
      "Image number 184.\n",
      "Image number 185.\n",
      "Image number 186.\n",
      "Image number 187.\n",
      "Image number 188.\n",
      "Image number 189.\n",
      "Image number 190.\n",
      "Image number 191.\n",
      "Image number 192.\n",
      "Image number 193.\n",
      "Image number 194.\n",
      "Image number 195.\n",
      "Image number 196.\n",
      "Image number 197.\n",
      "Image number 199.\n",
      "Image number 200.\n",
      "Image number 201.\n",
      "Image number 202.\n",
      "Image number 203.\n",
      "Image number 204.\n",
      "Image number 205.\n",
      "Image number 206.\n",
      "Image number 207.\n",
      "Image number 209.\n",
      "Image number 210.\n",
      "Image number 211.\n",
      "Image number 212.\n",
      "Image number 213.\n",
      "Image number 214.\n",
      "Image number 215.\n",
      "Image number 216.\n",
      "Image number 217.\n",
      "Image number 218.\n",
      "Image number 219.\n",
      "Image number 220.\n",
      "Image number 222.\n",
      "Image number 223.\n",
      "Image number 224.\n",
      "Image number 225.\n",
      "Image number 226.\n",
      "Image number 227.\n",
      "Image number 228.\n",
      "Image number 229.\n",
      "Image number 230.\n",
      "Image number 231.\n",
      "Image number 234.\n",
      "Image number 235.\n",
      "Image number 236.\n",
      "Image number 237.\n",
      "Image number 238.\n",
      "Image number 239.\n",
      "Image number 240.\n",
      "Image number 241.\n",
      "Image number 242.\n",
      "Image number 243.\n",
      "Image number 244.\n",
      "Image number 245.\n",
      "Image number 246.\n",
      "Image number 250.\n",
      "Image number 251.\n",
      "Image number 252.\n",
      "Image number 253.\n",
      "Image number 254.\n",
      "Image number 255.\n",
      "Image number 256.\n",
      "Image number 257.\n",
      "Image number 259.\n",
      "Image number 260.\n",
      "Image number 262.\n",
      "Image number 264.\n",
      "Image number 265.\n",
      "Image number 266.\n",
      "Image number 268.\n",
      "Image number 269.\n"
     ]
    },
    {
     "data": {
      "image/png": "[encoded data removed]",
      "text/plain": [
       "<Figure size 1440x720 with 2 Axes>"
      ]
     },
     "metadata": {
      "needs_background": "light"
     },
     "output_type": "display_data"
    },
    {
     "name": "stdout",
     "output_type": "stream",
     "text": [
      "Image number 271.\n",
      "Image number 272.\n",
      "Image number 273.\n",
      "Image number 274.\n",
      "Image number 275.\n",
      "Image number 276.\n",
      "Image number 277.\n",
      "Image number 279.\n",
      "Image number 281.\n",
      "Image number 284.\n",
      "Image number 285.\n",
      "Image number 286.\n",
      "Image number 287.\n",
      "Image number 288.\n",
      "Image number 289.\n",
      "Image number 290.\n",
      "Image number 291.\n",
      "Image number 293.\n",
      "Image number 294.\n",
      "Image number 295.\n",
      "Image number 297.\n",
      "Image number 302.\n",
      "Image number 303.\n",
      "Image number 304.\n",
      "Image number 305.\n",
      "Image number 307.\n",
      "Image number 308.\n",
      "Image number 309.\n",
      "Image number 312.\n",
      "Image number 313.\n"
     ]
    },
    {
     "data": {
      "image/png": "[encoded data removed]",
      "text/plain": [
       "<Figure size 1440x720 with 2 Axes>"
      ]
     },
     "metadata": {
      "needs_background": "light"
     },
     "output_type": "display_data"
    },
    {
     "name": "stdout",
     "output_type": "stream",
     "text": [
      "Image number 314.\n",
      "Image number 315.\n",
      "Image number 316.\n",
      "Image number 317.\n",
      "Image number 318.\n",
      "Image number 319.\n",
      "Image number 321.\n",
      "Image number 322.\n",
      "Image number 323.\n",
      "Image number 325.\n"
     ]
    },
    {
     "data": {
      "image/png": "[encoded data removed]",
      "text/plain": [
       "<Figure size 1440x720 with 2 Axes>"
      ]
     },
     "metadata": {
      "needs_background": "light"
     },
     "output_type": "display_data"
    },
    {
     "name": "stdout",
     "output_type": "stream",
     "text": [
      "Image number 326.\n",
      "Image number 327.\n",
      "Image number 329.\n",
      "Image number 330.\n"
     ]
    },
    {
     "ename": "KeyboardInterrupt",
     "evalue": "",
     "output_type": "error",
     "traceback": [
      "\u001b[0;31m---------------------------------------------------------------------------\u001b[0m",
      "\u001b[0;31mKeyboardInterrupt\u001b[0m                         Traceback (most recent call last)",
      "\u001b[0;32m<ipython-input-11-d457d0bbd1d9>\u001b[0m in \u001b[0;36m<module>\u001b[0;34m\u001b[0m\n\u001b[1;32m     45\u001b[0m \u001b[0;34m\u001b[0m\u001b[0m\n\u001b[1;32m     46\u001b[0m             \u001b[0;31m#_, clipped, _= attack_selector(attack, model, preprocessing, data[i], labels[i], epsilon)\u001b[0m\u001b[0;34m\u001b[0m\u001b[0;34m\u001b[0m\u001b[0;34m\u001b[0m\u001b[0m\n\u001b[0;32m---> 47\u001b[0;31m             \u001b[0m_\u001b[0m\u001b[0;34m,\u001b[0m \u001b[0mcand\u001b[0m\u001b[0;34m,\u001b[0m \u001b[0m_\u001b[0m\u001b[0;34m=\u001b[0m \u001b[0mattack_network\u001b[0m\u001b[0;34m(\u001b[0m\u001b[0mattack\u001b[0m\u001b[0;34m,\u001b[0m \u001b[0mmodel\u001b[0m\u001b[0;34m,\u001b[0m \u001b[0mmodel_name\u001b[0m\u001b[0;34m,\u001b[0m \u001b[0mpreprocessing\u001b[0m\u001b[0;34m,\u001b[0m \u001b[0mdata\u001b[0m\u001b[0;34m[\u001b[0m\u001b[0mi\u001b[0m\u001b[0;34m]\u001b[0m\u001b[0;34m,\u001b[0m \u001b[0mlabels\u001b[0m\u001b[0;34m[\u001b[0m\u001b[0mi\u001b[0m\u001b[0;34m]\u001b[0m\u001b[0;34m,\u001b[0m \u001b[0mepsilon\u001b[0m\u001b[0;34m)\u001b[0m\u001b[0;34m\u001b[0m\u001b[0;34m\u001b[0m\u001b[0m\n\u001b[0m\u001b[1;32m     48\u001b[0m \u001b[0;34m\u001b[0m\u001b[0m\n\u001b[1;32m     49\u001b[0m             \u001b[0;31m# print('The ones generated by the adversarial attack are {}'.format(set(cand.flatten())))\u001b[0m\u001b[0;34m\u001b[0m\u001b[0;34m\u001b[0m\u001b[0;34m\u001b[0m\u001b[0m\n",
      "\u001b[0;32m~/NN_security/adversarial_attacks/df_attacks.py\u001b[0m in \u001b[0;36mattack_network\u001b[0;34m(attack, model, model_name, pre, image, label, epsilon)\u001b[0m\n\u001b[1;32m     82\u001b[0m     \u001b[0mlabel\u001b[0m \u001b[0;34m=\u001b[0m \u001b[0mtf\u001b[0m\u001b[0;34m.\u001b[0m\u001b[0mconvert_to_tensor\u001b[0m\u001b[0;34m(\u001b[0m\u001b[0;34m[\u001b[0m\u001b[0mint\u001b[0m\u001b[0;34m(\u001b[0m\u001b[0mlabel\u001b[0m\u001b[0;34m)\u001b[0m\u001b[0;34m]\u001b[0m\u001b[0;34m)\u001b[0m\u001b[0;34m\u001b[0m\u001b[0;34m\u001b[0m\u001b[0m\n\u001b[1;32m     83\u001b[0m \u001b[0;34m\u001b[0m\u001b[0m\n\u001b[0;32m---> 84\u001b[0;31m     \u001b[0mraw\u001b[0m\u001b[0;34m,\u001b[0m \u001b[0mclipped\u001b[0m\u001b[0;34m,\u001b[0m \u001b[0mis_adv\u001b[0m \u001b[0;34m=\u001b[0m \u001b[0mattack\u001b[0m\u001b[0;34m(\u001b[0m\u001b[0mfmodel\u001b[0m\u001b[0;34m,\u001b[0m \u001b[0mimage\u001b[0m\u001b[0;34m,\u001b[0m \u001b[0mtf\u001b[0m\u001b[0;34m.\u001b[0m\u001b[0mconvert_to_tensor\u001b[0m\u001b[0;34m(\u001b[0m\u001b[0mlabel\u001b[0m\u001b[0;34m)\u001b[0m\u001b[0;34m,\u001b[0m \u001b[0mepsilons\u001b[0m \u001b[0;34m=\u001b[0m \u001b[0mepsilon\u001b[0m\u001b[0;34m)\u001b[0m\u001b[0;31m#, epsilons = epsilon)\u001b[0m\u001b[0;34m\u001b[0m\u001b[0;34m\u001b[0m\u001b[0m\n\u001b[0m\u001b[1;32m     85\u001b[0m \u001b[0;34m\u001b[0m\u001b[0m\n\u001b[1;32m     86\u001b[0m     \u001b[0;32mreturn\u001b[0m \u001b[0mraw\u001b[0m\u001b[0;34m,\u001b[0m \u001b[0mclipped\u001b[0m\u001b[0;34m,\u001b[0m \u001b[0mis_adv\u001b[0m\u001b[0;34m\u001b[0m\u001b[0;34m\u001b[0m\u001b[0m\n",
      "\u001b[0;32m~/.local/lib/python3.7/site-packages/foolbox/attacks/base.py\u001b[0m in \u001b[0;36m__call__\u001b[0;34m(***failed resolving arguments***)\u001b[0m\n\u001b[1;32m    408\u001b[0m \u001b[0;34m\u001b[0m\u001b[0m\n\u001b[1;32m    409\u001b[0m         \u001b[0;31m# run the actual attack\u001b[0m\u001b[0;34m\u001b[0m\u001b[0;34m\u001b[0m\u001b[0;34m\u001b[0m\u001b[0m\n\u001b[0;32m--> 410\u001b[0;31m         \u001b[0mxp\u001b[0m \u001b[0;34m=\u001b[0m \u001b[0mself\u001b[0m\u001b[0;34m.\u001b[0m\u001b[0mrun\u001b[0m\u001b[0;34m(\u001b[0m\u001b[0mmodel\u001b[0m\u001b[0;34m,\u001b[0m \u001b[0mx\u001b[0m\u001b[0;34m,\u001b[0m \u001b[0mcriterion\u001b[0m\u001b[0;34m,\u001b[0m \u001b[0mearly_stop\u001b[0m\u001b[0;34m=\u001b[0m\u001b[0mearly_stop\u001b[0m\u001b[0;34m,\u001b[0m \u001b[0;34m**\u001b[0m\u001b[0mkwargs\u001b[0m\u001b[0;34m)\u001b[0m\u001b[0;34m\u001b[0m\u001b[0;34m\u001b[0m\u001b[0m\n\u001b[0m\u001b[1;32m    411\u001b[0m \u001b[0;34m\u001b[0m\u001b[0m\n\u001b[1;32m    412\u001b[0m         \u001b[0mxpcs\u001b[0m \u001b[0;34m=\u001b[0m \u001b[0;34m[\u001b[0m\u001b[0;34m]\u001b[0m\u001b[0;34m\u001b[0m\u001b[0;34m\u001b[0m\u001b[0m\n",
      "\u001b[0;32m~/.local/lib/python3.7/site-packages/foolbox/attacks/deepfool.py\u001b[0m in \u001b[0;36mrun\u001b[0;34m(***failed resolving arguments***)\u001b[0m\n\u001b[1;32m    110\u001b[0m         \u001b[0mmin_\u001b[0m\u001b[0;34m,\u001b[0m \u001b[0mmax_\u001b[0m \u001b[0;34m=\u001b[0m \u001b[0mmodel\u001b[0m\u001b[0;34m.\u001b[0m\u001b[0mbounds\u001b[0m\u001b[0;34m\u001b[0m\u001b[0;34m\u001b[0m\u001b[0m\n\u001b[1;32m    111\u001b[0m \u001b[0;34m\u001b[0m\u001b[0m\n\u001b[0;32m--> 112\u001b[0;31m         \u001b[0mlogits\u001b[0m \u001b[0;34m=\u001b[0m \u001b[0mmodel\u001b[0m\u001b[0;34m(\u001b[0m\u001b[0mx\u001b[0m\u001b[0;34m)\u001b[0m\u001b[0;34m\u001b[0m\u001b[0;34m\u001b[0m\u001b[0m\n\u001b[0m\u001b[1;32m    113\u001b[0m         \u001b[0mclasses\u001b[0m \u001b[0;34m=\u001b[0m \u001b[0mlogits\u001b[0m\u001b[0;34m.\u001b[0m\u001b[0margsort\u001b[0m\u001b[0;34m(\u001b[0m\u001b[0maxis\u001b[0m\u001b[0;34m=\u001b[0m\u001b[0;34m-\u001b[0m\u001b[0;36m1\u001b[0m\u001b[0;34m)\u001b[0m\u001b[0;34m.\u001b[0m\u001b[0mflip\u001b[0m\u001b[0;34m(\u001b[0m\u001b[0maxis\u001b[0m\u001b[0;34m=\u001b[0m\u001b[0;34m-\u001b[0m\u001b[0;36m1\u001b[0m\u001b[0;34m)\u001b[0m\u001b[0;34m\u001b[0m\u001b[0;34m\u001b[0m\u001b[0m\n\u001b[1;32m    114\u001b[0m         \u001b[0;32mif\u001b[0m \u001b[0mself\u001b[0m\u001b[0;34m.\u001b[0m\u001b[0mcandidates\u001b[0m \u001b[0;32mis\u001b[0m \u001b[0;32mNone\u001b[0m\u001b[0;34m:\u001b[0m\u001b[0;34m\u001b[0m\u001b[0;34m\u001b[0m\u001b[0m\n",
      "\u001b[0;32m~/.local/lib/python3.7/site-packages/foolbox/models/base.py\u001b[0m in \u001b[0;36m__call__\u001b[0;34m(self, inputs)\u001b[0m\n\u001b[1;32m    100\u001b[0m         \u001b[0mx\u001b[0m\u001b[0;34m,\u001b[0m \u001b[0mrestore_type\u001b[0m \u001b[0;34m=\u001b[0m \u001b[0mep\u001b[0m\u001b[0;34m.\u001b[0m\u001b[0mastensor_\u001b[0m\u001b[0;34m(\u001b[0m\u001b[0minputs\u001b[0m\u001b[0;34m)\u001b[0m\u001b[0;34m\u001b[0m\u001b[0;34m\u001b[0m\u001b[0m\n\u001b[1;32m    101\u001b[0m         \u001b[0my\u001b[0m \u001b[0;34m=\u001b[0m \u001b[0mself\u001b[0m\u001b[0;34m.\u001b[0m\u001b[0m_preprocess\u001b[0m\u001b[0;34m(\u001b[0m\u001b[0mx\u001b[0m\u001b[0;34m)\u001b[0m\u001b[0;34m\u001b[0m\u001b[0;34m\u001b[0m\u001b[0m\n\u001b[0;32m--> 102\u001b[0;31m         \u001b[0mz\u001b[0m \u001b[0;34m=\u001b[0m \u001b[0mep\u001b[0m\u001b[0;34m.\u001b[0m\u001b[0mastensor\u001b[0m\u001b[0;34m(\u001b[0m\u001b[0mself\u001b[0m\u001b[0;34m.\u001b[0m\u001b[0m_model\u001b[0m\u001b[0;34m(\u001b[0m\u001b[0my\u001b[0m\u001b[0;34m.\u001b[0m\u001b[0mraw\u001b[0m\u001b[0;34m)\u001b[0m\u001b[0;34m)\u001b[0m\u001b[0;34m\u001b[0m\u001b[0;34m\u001b[0m\u001b[0m\n\u001b[0m\u001b[1;32m    103\u001b[0m         \u001b[0;32mreturn\u001b[0m \u001b[0mrestore_type\u001b[0m\u001b[0;34m(\u001b[0m\u001b[0mz\u001b[0m\u001b[0;34m)\u001b[0m\u001b[0;34m\u001b[0m\u001b[0;34m\u001b[0m\u001b[0m\n\u001b[1;32m    104\u001b[0m \u001b[0;34m\u001b[0m\u001b[0m\n",
      "\u001b[0;32m/storage/software/TensorFlow/2.3.1-fosscuda-2019b-Python-3.7.4/lib/python3.7/site-packages/tensorflow/python/keras/engine/base_layer.py\u001b[0m in \u001b[0;36m__call__\u001b[0;34m(self, *args, **kwargs)\u001b[0m\n\u001b[1;32m    983\u001b[0m \u001b[0;34m\u001b[0m\u001b[0m\n\u001b[1;32m    984\u001b[0m         \u001b[0;32mwith\u001b[0m \u001b[0mops\u001b[0m\u001b[0;34m.\u001b[0m\u001b[0menable_auto_cast_variables\u001b[0m\u001b[0;34m(\u001b[0m\u001b[0mself\u001b[0m\u001b[0;34m.\u001b[0m\u001b[0m_compute_dtype_object\u001b[0m\u001b[0;34m)\u001b[0m\u001b[0;34m:\u001b[0m\u001b[0;34m\u001b[0m\u001b[0;34m\u001b[0m\u001b[0m\n\u001b[0;32m--> 985\u001b[0;31m           \u001b[0moutputs\u001b[0m \u001b[0;34m=\u001b[0m \u001b[0mcall_fn\u001b[0m\u001b[0;34m(\u001b[0m\u001b[0minputs\u001b[0m\u001b[0;34m,\u001b[0m \u001b[0;34m*\u001b[0m\u001b[0margs\u001b[0m\u001b[0;34m,\u001b[0m \u001b[0;34m**\u001b[0m\u001b[0mkwargs\u001b[0m\u001b[0;34m)\u001b[0m\u001b[0;34m\u001b[0m\u001b[0;34m\u001b[0m\u001b[0m\n\u001b[0m\u001b[1;32m    986\u001b[0m \u001b[0;34m\u001b[0m\u001b[0m\n\u001b[1;32m    987\u001b[0m         \u001b[0;32mif\u001b[0m \u001b[0mself\u001b[0m\u001b[0;34m.\u001b[0m\u001b[0m_activity_regularizer\u001b[0m\u001b[0;34m:\u001b[0m\u001b[0;34m\u001b[0m\u001b[0;34m\u001b[0m\u001b[0m\n",
      "\u001b[0;32m/storage/software/TensorFlow/2.3.1-fosscuda-2019b-Python-3.7.4/lib/python3.7/site-packages/tensorflow/python/keras/engine/functional.py\u001b[0m in \u001b[0;36mcall\u001b[0;34m(self, inputs, training, mask)\u001b[0m\n\u001b[1;32m    384\u001b[0m     \"\"\"\n\u001b[1;32m    385\u001b[0m     return self._run_internal_graph(\n\u001b[0;32m--> 386\u001b[0;31m         inputs, training=training, mask=mask)\n\u001b[0m\u001b[1;32m    387\u001b[0m \u001b[0;34m\u001b[0m\u001b[0m\n\u001b[1;32m    388\u001b[0m   \u001b[0;32mdef\u001b[0m \u001b[0mcompute_output_shape\u001b[0m\u001b[0;34m(\u001b[0m\u001b[0mself\u001b[0m\u001b[0;34m,\u001b[0m \u001b[0minput_shape\u001b[0m\u001b[0;34m)\u001b[0m\u001b[0;34m:\u001b[0m\u001b[0;34m\u001b[0m\u001b[0;34m\u001b[0m\u001b[0m\n",
      "\u001b[0;32m/storage/software/TensorFlow/2.3.1-fosscuda-2019b-Python-3.7.4/lib/python3.7/site-packages/tensorflow/python/keras/engine/functional.py\u001b[0m in \u001b[0;36m_run_internal_graph\u001b[0;34m(self, inputs, training, mask)\u001b[0m\n\u001b[1;32m    506\u001b[0m \u001b[0;34m\u001b[0m\u001b[0m\n\u001b[1;32m    507\u001b[0m         \u001b[0margs\u001b[0m\u001b[0;34m,\u001b[0m \u001b[0mkwargs\u001b[0m \u001b[0;34m=\u001b[0m \u001b[0mnode\u001b[0m\u001b[0;34m.\u001b[0m\u001b[0mmap_arguments\u001b[0m\u001b[0;34m(\u001b[0m\u001b[0mtensor_dict\u001b[0m\u001b[0;34m)\u001b[0m\u001b[0;34m\u001b[0m\u001b[0;34m\u001b[0m\u001b[0m\n\u001b[0;32m--> 508\u001b[0;31m         \u001b[0moutputs\u001b[0m \u001b[0;34m=\u001b[0m \u001b[0mnode\u001b[0m\u001b[0;34m.\u001b[0m\u001b[0mlayer\u001b[0m\u001b[0;34m(\u001b[0m\u001b[0;34m*\u001b[0m\u001b[0margs\u001b[0m\u001b[0;34m,\u001b[0m \u001b[0;34m**\u001b[0m\u001b[0mkwargs\u001b[0m\u001b[0;34m)\u001b[0m\u001b[0;34m\u001b[0m\u001b[0;34m\u001b[0m\u001b[0m\n\u001b[0m\u001b[1;32m    509\u001b[0m \u001b[0;34m\u001b[0m\u001b[0m\n\u001b[1;32m    510\u001b[0m         \u001b[0;31m# Update tensor_dict.\u001b[0m\u001b[0;34m\u001b[0m\u001b[0;34m\u001b[0m\u001b[0;34m\u001b[0m\u001b[0m\n",
      "\u001b[0;32m/storage/software/TensorFlow/2.3.1-fosscuda-2019b-Python-3.7.4/lib/python3.7/site-packages/tensorflow/python/keras/engine/base_layer.py\u001b[0m in \u001b[0;36m__call__\u001b[0;34m(self, *args, **kwargs)\u001b[0m\n\u001b[1;32m    967\u001b[0m \u001b[0;34m\u001b[0m\u001b[0m\n\u001b[1;32m    968\u001b[0m       \u001b[0;32mif\u001b[0m \u001b[0mself\u001b[0m\u001b[0;34m.\u001b[0m\u001b[0m_autocast\u001b[0m\u001b[0;34m:\u001b[0m\u001b[0;34m\u001b[0m\u001b[0;34m\u001b[0m\u001b[0m\n\u001b[0;32m--> 969\u001b[0;31m         \u001b[0minputs\u001b[0m \u001b[0;34m=\u001b[0m \u001b[0mself\u001b[0m\u001b[0;34m.\u001b[0m\u001b[0m_maybe_cast_inputs\u001b[0m\u001b[0;34m(\u001b[0m\u001b[0minputs\u001b[0m\u001b[0;34m,\u001b[0m \u001b[0minput_list\u001b[0m\u001b[0;34m)\u001b[0m\u001b[0;34m\u001b[0m\u001b[0;34m\u001b[0m\u001b[0m\n\u001b[0m\u001b[1;32m    970\u001b[0m \u001b[0;34m\u001b[0m\u001b[0m\n\u001b[1;32m    971\u001b[0m       \u001b[0;32mif\u001b[0m \u001b[0meager\u001b[0m\u001b[0;34m:\u001b[0m\u001b[0;34m\u001b[0m\u001b[0;34m\u001b[0m\u001b[0m\n",
      "\u001b[0;32m/storage/software/TensorFlow/2.3.1-fosscuda-2019b-Python-3.7.4/lib/python3.7/site-packages/tensorflow/python/keras/engine/base_layer.py\u001b[0m in \u001b[0;36m_maybe_cast_inputs\u001b[0;34m(self, inputs, input_list)\u001b[0m\n\u001b[1;32m   2329\u001b[0m     should_autocast = (\n\u001b[1;32m   2330\u001b[0m         \u001b[0mself\u001b[0m\u001b[0;34m.\u001b[0m\u001b[0m_autocast\u001b[0m \u001b[0;32mand\u001b[0m \u001b[0mcompute_dtype_object\u001b[0m \u001b[0;32mand\u001b[0m\u001b[0;34m\u001b[0m\u001b[0;34m\u001b[0m\u001b[0m\n\u001b[0;32m-> 2331\u001b[0;31m         compute_dtype_object.is_floating)\n\u001b[0m\u001b[1;32m   2332\u001b[0m \u001b[0;34m\u001b[0m\u001b[0m\n\u001b[1;32m   2333\u001b[0m     if (should_autocast and\n",
      "\u001b[0;31mKeyboardInterrupt\u001b[0m: "
     ]
    }
   ],
   "source": [
    "# Do adversarial attacks on training data (can also do on test)\n",
    "\n",
    "originals = []\n",
    "adversarials = []\n",
    "diffs = []\n",
    "adv_lab = []\n",
    "ans = []\n",
    "\n",
    "plt.figure()\n",
    "\n",
    "data_size = 500\n",
    "\n",
    "if attack == 'spsa':\n",
    "    for i in range(data_size): \n",
    "        colors = set(data[i].flatten())\n",
    "        colors = [colors.pop(),colors.pop(),colors.pop()]\n",
    "        color_diff = [abs(colors[0]-colors[1]), abs(colors[0]-colors[2]), abs(colors[1]-colors[2])]\n",
    "        lower = min(color_diff)\n",
    "\n",
    "        epsilon = lower/4\n",
    "        delta = epsilon/8\n",
    "        alpha = delta\n",
    "        T = 20\n",
    "        n = 5\n",
    "\n",
    "        candidates = spsa_T1(model, data[i], delta, alpha, n, epsilon, T)\n",
    "        for cand in candidates:\n",
    "            cand = np.expand_dims(cand, axis=0)\n",
    "            if round(model.predict(cand)[0,0]) !=  labels[i][0]:\n",
    "                adversarials.append(cand)\n",
    "                adv_lab.append(labels[i])\n",
    "\n",
    "else:\n",
    "    for i in range(data_size): \n",
    "        if np.argmax(model.predict(tf.convert_to_tensor(data[i].reshape((1, 224, 224, 1))))) == int(labels[i]):\n",
    "            print(\"Image number {}.\".format(i))\n",
    "            # Only images that get correctly labeled in the first place\n",
    "            colors = set(data[i].flatten())\n",
    "            # print('The original shades are {}'.format(colors))\n",
    "            colors = [colors.pop(),colors.pop(),colors.pop()]\n",
    "            color_diff = [abs(colors[0]-colors[1]), abs(colors[0]-colors[2]), abs(colors[1]-colors[2])]\n",
    "            lower = min(color_diff)\n",
    "\n",
    "            epsilon = lower/4\n",
    "\n",
    "            #_, clipped, _= attack_selector(attack, model, preprocessing, data[i], labels[i], epsilon)\n",
    "            _, cand, _= attack_network(attack, model, model_name, preprocessing, data[i], labels[i], epsilon)\n",
    "\n",
    "            # print('The ones generated by the adversarial attack are {}'.format(set(cand.flatten())))\n",
    "\n",
    "\n",
    "            if np.argmax(model.predict(cand)) !=  int(labels[i]):\n",
    "                # Where adversarial images succeed in making the initial correct prediciton wrong\n",
    "\n",
    "\n",
    "                img_to_show = (np.reshape(data[i],(224,224)) +122)/255\n",
    "                cand_to_show = (np.reshape(cand,(224,224)) +122)/255\n",
    "                \n",
    "                originals.append(img_to_show)\n",
    "                adversarials.append(cand_to_show)\n",
    "                adv_lab.append(labels[i])\n",
    "                diffs.append(diff[i])\n",
    "                ans.append(np.argmax(model.predict(cand)))\n",
    "                \n",
    "                \n",
    "                plt.figure(figsize=(20,10))\n",
    "\n",
    "                plt.subplot(121)\n",
    "                plt.matshow(img_to_show, cmap = 'gray', fignum=False)\n",
    "                plt.axis('off')\n",
    "                plt.title('Original image number {}, true label {}'.format(i+1, labels[i]))\n",
    "\n",
    "                plt.subplot(122)\n",
    "                plt.matshow(cand_to_show, cmap = 'gray', fignum=False)\n",
    "                plt.axis('off')\n",
    "                plt.title('Adversarial image ({} attack) number of image: {}, label: {}, neural net predicts: {}'.format(attack, i+1, int(labels[i]), np.argmax(model.predict(cand))))\n",
    "\n",
    "                plt.show()\n",
    "\n",
    "\n",
    "\n",
    "    \n",
    "np.save(original_data, originals)\n",
    "np.save(adv_data, adversarials)\n",
    "np.save(adv_labels, adv_lab)"
   ]
  },
  {
   "cell_type": "markdown",
   "metadata": {},
   "source": [
    "## Check whether at least one attack works"
   ]
  },
  {
   "cell_type": "code",
   "execution_count": 13,
   "metadata": {},
   "outputs": [
    {
     "name": "stdout",
     "output_type": "stream",
     "text": [
      "100\n",
      "200\n",
      "400\n"
     ]
    },
    {
     "ename": "NameError",
     "evalue": "name 'adv_diffs' is not defined",
     "output_type": "error",
     "traceback": [
      "\u001b[0;31m---------------------------------------------------------------------------\u001b[0m",
      "\u001b[0;31mNameError\u001b[0m                                 Traceback (most recent call last)",
      "\u001b[0;32m<ipython-input-13-4816999c20ab>\u001b[0m in \u001b[0;36m<module>\u001b[0;34m\u001b[0m\n\u001b[1;32m     89\u001b[0m \u001b[0mnp\u001b[0m\u001b[0;34m.\u001b[0m\u001b[0msave\u001b[0m\u001b[0;34m(\u001b[0m\u001b[0madv_data\u001b[0m\u001b[0;34m,\u001b[0m \u001b[0madversarials\u001b[0m\u001b[0;34m[\u001b[0m\u001b[0;34m:\u001b[0m\u001b[0;36m300\u001b[0m\u001b[0;34m]\u001b[0m\u001b[0;34m)\u001b[0m\u001b[0;34m\u001b[0m\u001b[0;34m\u001b[0m\u001b[0m\n\u001b[1;32m     90\u001b[0m \u001b[0mnp\u001b[0m\u001b[0;34m.\u001b[0m\u001b[0msave\u001b[0m\u001b[0;34m(\u001b[0m\u001b[0madv_labels\u001b[0m\u001b[0;34m,\u001b[0m \u001b[0madv_lab\u001b[0m\u001b[0;34m[\u001b[0m\u001b[0;34m:\u001b[0m\u001b[0;36m300\u001b[0m\u001b[0;34m]\u001b[0m\u001b[0;34m)\u001b[0m\u001b[0;34m\u001b[0m\u001b[0;34m\u001b[0m\u001b[0m\n\u001b[0;32m---> 91\u001b[0;31m \u001b[0mnp\u001b[0m\u001b[0;34m.\u001b[0m\u001b[0msave\u001b[0m\u001b[0;34m(\u001b[0m\u001b[0madv_diffs\u001b[0m\u001b[0;34m,\u001b[0m \u001b[0mdiffs\u001b[0m\u001b[0;34m[\u001b[0m\u001b[0;34m:\u001b[0m\u001b[0;36m300\u001b[0m\u001b[0;34m]\u001b[0m\u001b[0;34m)\u001b[0m\u001b[0;34m\u001b[0m\u001b[0;34m\u001b[0m\u001b[0m\n\u001b[0m\u001b[1;32m     92\u001b[0m \u001b[0;34m\u001b[0m\u001b[0m\n\u001b[1;32m     93\u001b[0m \u001b[0mprint\u001b[0m\u001b[0;34m(\u001b[0m\u001b[0;34m'Adversarial susceptibility : {:.2f}%'\u001b[0m\u001b[0;34m.\u001b[0m\u001b[0mformat\u001b[0m\u001b[0;34m(\u001b[0m\u001b[0;36m100\u001b[0m\u001b[0;34m*\u001b[0m\u001b[0msuccess\u001b[0m\u001b[0;34m/\u001b[0m\u001b[0mdata_size\u001b[0m\u001b[0;34m)\u001b[0m\u001b[0;34m)\u001b[0m\u001b[0;34m\u001b[0m\u001b[0;34m\u001b[0m\u001b[0m\n",
      "\u001b[0;31mNameError\u001b[0m: name 'adv_diffs' is not defined"
     ]
    },
    {
     "data": {
      "text/plain": [
       "<Figure size 432x288 with 0 Axes>"
      ]
     },
     "metadata": {},
     "output_type": "display_data"
    }
   ],
   "source": [
    "# Do adversarial attacks on training data (can also do on test)\n",
    "attack_types = [ 'FGSM', 'L2PGD', 'LinfPGD', 'PGD', 'L2DeepFoolAttack', 'LinfDeepFoolAttack'] # 'FGM',\n",
    "attack_type_success = dict((att, 0) for att in attack_types)\n",
    "image_vulnerabilities = dict()\n",
    "originals = []\n",
    "adversarials = []\n",
    "adv_lab = []\n",
    "ans = []\n",
    "diffs = []\n",
    "success = 0\n",
    "\n",
    "plt.figure()\n",
    "\n",
    "data_size = 500\n",
    "\n",
    "if attack == 'spsa':\n",
    "    for i in range(data_size): \n",
    "        colors = set(data[i].flatten())\n",
    "        colors = [colors.pop(),colors.pop(),colors.pop()]\n",
    "        color_diff = [abs(colors[0]-colors[1]), abs(colors[0]-colors[2]), abs(colors[1]-colors[2])]\n",
    "        lower = min(color_diff)\n",
    "\n",
    "        epsilon = lower/4\n",
    "        delta = epsilon/8\n",
    "        alpha = delta\n",
    "        T = 20\n",
    "        n = 5\n",
    "\n",
    "        candidates = spsa_T1(model, data[i], delta, alpha, n, epsilon, T)\n",
    "        for cand in candidates:\n",
    "            cand = np.expand_dims(cand, axis=0)\n",
    "            if round(model.predict(cand)[0,0]) !=  labels[i][0]:\n",
    "                adversarials.append(cand)\n",
    "                adv_lab.append(labels[i])\n",
    "\n",
    "else:\n",
    "    for i in range(data_size): \n",
    "        image_vulnerabilities['{}'.format(i)] = False\n",
    "        if np.argmax(model.predict(tf.convert_to_tensor(data[i].reshape((1, 224, 224, 1))))) == int(labels[i]):\n",
    "            \n",
    "            # Only images that get correctly labeled in the first place\n",
    "            colors = set(data[i].flatten())\n",
    "            # print('The original shades are {}'.format(colors))\n",
    "            colors = [colors.pop(),colors.pop(),colors.pop()]\n",
    "            color_diff = [abs(colors[0]-colors[1]), abs(colors[0]-colors[2]), abs(colors[1]-colors[2])]\n",
    "            lower = min(color_diff)\n",
    "\n",
    "            epsilon = lower/4\n",
    "\n",
    "            for attack_choice in attack_types:\n",
    "                #_, clipped, _= attack_selector(attack, model, preprocessing, data[i], labels[i], epsilon)\n",
    "                _, cand, _= attack_network(attack_choice, model, model_name, preprocessing, data[i], labels[i], epsilon)\n",
    "\n",
    "                # print('The ones generated by the adversarial attack are {}'.format(set(cand.flatten())))\n",
    "\n",
    "\n",
    "                if np.argmax(model.predict(cand)) !=  int(labels[i]):\n",
    "                    \n",
    "                    attack_type_success[attack_choice] += 1\n",
    "                    image_vulnerabilities['{}'.format(i)] = True\n",
    "                    \n",
    "                    img_to_show = (np.reshape(data[i],(224,224)) +122)/255\n",
    "                    cand_to_show = (np.reshape(cand,(224,224)) +122)/255\n",
    "                \n",
    "                    originals.append(img_to_show)\n",
    "                    adversarials.append(cand_to_show)\n",
    "                    adv_lab.append(labels[i])\n",
    "                    diffs.append(diff[i])\n",
    "                    ans.append(np.argmax(model.predict(cand)))\n",
    "                    \n",
    "            if image_vulnerabilities['{}'.format(i)]:\n",
    "                \n",
    "                success += 1\n",
    "            \n",
    "            if i%100==0:\n",
    "                \n",
    "                print(i)\n",
    "                \n",
    "                    \n",
    "f = open(\"attack_type_success.txt\",\"w\")\n",
    "f.write( str(attack_type_success) )\n",
    "f.close()\n",
    "\n",
    "g = open(\"image_vulnerabilities.txt\",\"w\")\n",
    "g.write( str(image_vulnerabilities) )\n",
    "g.close()\n",
    "    \n",
    "np.save(original_data, originals[:300])\n",
    "np.save(adv_data, adversarials[:300])\n",
    "np.save(adv_labels, adv_lab[:300])\n",
    "np.save(adv_diffs, diffs[:300])\n",
    "\n",
    "print('Adversarial susceptibility : {:.2f}%'.format(100*success/data_size))"
   ]
  },
  {
   "cell_type": "code",
   "execution_count": 14,
   "metadata": {},
   "outputs": [
    {
     "data": {
      "text/plain": [
       "{'FGSM': 227,\n",
       " 'L2PGD': 14,\n",
       " 'LinfPGD': 339,\n",
       " 'PGD': 339,\n",
       " 'L2DeepFoolAttack': 12,\n",
       " 'LinfDeepFoolAttack': 326}"
      ]
     },
     "execution_count": 14,
     "metadata": {},
     "output_type": "execute_result"
    }
   ],
   "source": [
    "# For FC3 381 and 629 in training become adversarial with LinfPGD\n",
    "# For CNN4 38, 101, 313, 354, 562, 623, 629, 731, 839, 1013, 1071, 1091, \n",
    "# 1130, 1266, 1359, 1606, 1640, 1642, 1716, 1811, 1969, 2003, 2017, 2240, 2287, 2290, 2452, 2458, 2652, 2749, 2779\n",
    "# 2947, 2955, \n",
    "attack_type_success"
   ]
  },
  {
   "cell_type": "code",
   "execution_count": 17,
   "metadata": {},
   "outputs": [
    {
     "name": "stdout",
     "output_type": "stream",
     "text": [
      "Adversarial susceptibility : 67.80%\n"
     ]
    }
   ],
   "source": [
    "print('Adversarial susceptibility : {:.2f}%'.format(100*success/data_size))"
   ]
  },
  {
   "cell_type": "code",
   "execution_count": 16,
   "metadata": {},
   "outputs": [],
   "source": [
    "adv_diffs = cgf['DATASET']['arguments']['adv_diffs']\n",
    "np.save(adv_diffs, diffs[:300])"
   ]
  },
  {
   "cell_type": "code",
   "execution_count": null,
   "metadata": {},
   "outputs": [],
   "source": [
    "for j in range(10):\n",
    "    \n",
    "    plt.figure(figsize=(20,10))\n",
    "\n",
    "    plt.subplot(122)\n",
    "    plt.matshow(originals[j], cmap = 'gray', fignum=False)\n",
    "    plt.axis('off')\n",
    "    plt.title('Adversarial image ({} attack) number of image: {}, label: {}, neural net predicts: {}'.format(attack, i+1, int(labels[i]), np.argmax(model.predict(cand))))\n",
    "\n",
    "    plt.show()\n",
    "\n",
    "for i in range(300):\n",
    "    \n",
    "                plt.figure(figsize=(20,10))\n",
    "\n",
    "                plt.subplot(122)\n",
    "                plt.matshow(adversarials[i], cmap = 'gray', fignum=False)\n",
    "                plt.axis('off')\n",
    "                plt.title('Adversarial image ({} attack) number of image: {}, label: {}, neural net predicts: {}'.format(attack, i+1, int(labels[i]), np.argmax(model.predict(cand))))\n",
    "\n",
    "                plt.show()"
   ]
  },
  {
   "cell_type": "code",
   "execution_count": null,
   "metadata": {},
   "outputs": [],
   "source": [
    "plt.figure(figsize=(20,10))\n",
    "\n",
    "plt.subplot(122)\n",
    "plt.matshow(data_train[0], cmap = 'gray', fignum=False)\n",
    "plt.axis('off')\n",
    "plt.title('Adversarial image ({} attack) number of image: {}, label: {}, neural net predicts: {}'.format(attack, i+1, int(labels[i]), np.argmax(model.predict(cand))))\n",
    "\n",
    "plt.show()"
   ]
  },
  {
   "cell_type": "code",
   "execution_count": null,
   "metadata": {},
   "outputs": [],
   "source": [
    "from IPython.display import display, Javascript\n",
    "display(Javascript('IPython.notebook.save_checkpoint();'))\n",
    "exit()"
   ]
  },
  {
   "cell_type": "code",
   "execution_count": null,
   "metadata": {},
   "outputs": [],
   "source": []
  }
 ],
 "metadata": {
  "anaconda-cloud": {},
  "kernelspec": {
   "display_name": "Python 3",
   "language": "python",
   "name": "python3"
  },
  "language_info": {
   "codemirror_mode": {
    "name": "ipython",
    "version": 3
   },
   "file_extension": ".py",
   "mimetype": "text/x-python",
   "name": "python",
   "nbconvert_exporter": "python",
   "pygments_lexer": "ipython3",
   "version": "3.7.4"
  }
 },
 "nbformat": 4,
 "nbformat_minor": 4
}
